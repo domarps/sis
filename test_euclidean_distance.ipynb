{
 "cells": [
  {
   "cell_type": "code",
   "execution_count": 3,
   "metadata": {},
   "outputs": [],
   "source": [
    "import glob\n",
    "import os\n",
    "import pickle\n",
    "import time\n",
    "from PIL import Image\n",
    "os.environ['KERAS_BACKEND']='tensorflow'\n",
    "from feature_extractor import FeatureExtractor\n",
    "\n",
    "import numpy as np\n",
    "fe = FeatureExtractor()"
   ]
  },
  {
   "cell_type": "code",
   "execution_count": 4,
   "metadata": {},
   "outputs": [],
   "source": [
    "features = []\n",
    "img_paths = []\n",
    "for feature_path in glob.glob(\"static/feature/*\"):\n",
    "    features.append(pickle.load(open(feature_path, 'rb')))\n",
    "    img_paths.append('static/img/' + os.path.splitext(os.path.basename(feature_path))[0] + '.jpg')"
   ]
  },
  {
   "cell_type": "code",
   "execution_count": 5,
   "metadata": {},
   "outputs": [
    {
     "data": {
      "text/plain": [
       "11455"
      ]
     },
     "execution_count": 5,
     "metadata": {},
     "output_type": "execute_result"
    }
   ],
   "source": [
    "len(features)"
   ]
  },
  {
   "cell_type": "code",
   "execution_count": 6,
   "metadata": {},
   "outputs": [],
   "source": [
    "for i in range(8):\n",
    "    temp_list = features + features\n",
    "    features = temp_list"
   ]
  },
  {
   "cell_type": "code",
   "execution_count": 7,
   "metadata": {},
   "outputs": [
    {
     "data": {
      "text/plain": [
       "(4096,)"
      ]
     },
     "execution_count": 7,
     "metadata": {},
     "output_type": "execute_result"
    }
   ],
   "source": [
    "features[0].shape"
   ]
  },
  {
   "cell_type": "code",
   "execution_count": 8,
   "metadata": {},
   "outputs": [
    {
     "data": {
      "text/plain": [
       "2932480"
      ]
     },
     "execution_count": 8,
     "metadata": {},
     "output_type": "execute_result"
    }
   ],
   "source": [
    "len(features)"
   ]
  },
  {
   "cell_type": "code",
   "execution_count": 9,
   "metadata": {},
   "outputs": [],
   "source": [
    "img = Image.open('nut_squirrel.jpeg')"
   ]
  },
  {
   "cell_type": "code",
   "execution_count": 10,
   "metadata": {},
   "outputs": [],
   "source": [
    "query = fe.extract(img)"
   ]
  },
  {
   "cell_type": "code",
   "execution_count": 14,
   "metadata": {},
   "outputs": [],
   "source": [
    "features = np.array(features)"
   ]
  },
  {
   "cell_type": "code",
   "execution_count": 15,
   "metadata": {},
   "outputs": [
    {
     "data": {
      "text/plain": [
       "(2932480, 4096)"
      ]
     },
     "execution_count": 15,
     "metadata": {},
     "output_type": "execute_result"
    }
   ],
   "source": [
    "features.shape"
   ]
  },
  {
   "cell_type": "code",
   "execution_count": 16,
   "metadata": {},
   "outputs": [
    {
     "name": "stdout",
     "output_type": "stream",
     "text": [
      "Time taken 66.23193097114563\n"
     ]
    }
   ],
   "source": [
    "t1 = time.time() \n",
    "ans = np.argsort(np.linalg.norm(features - query, axis=1))[:100]\n",
    "print('Time taken {}'.format(time.time() - t1))"
   ]
  },
  {
   "cell_type": "code",
   "execution_count": 17,
   "metadata": {},
   "outputs": [
    {
     "data": {
      "text/plain": [
       "array([1249982,   12842,  837602, 1215617, 1032337, 2418392, 1501992,\n",
       "       1925827,  390857,  127392, 1387442, 2006012, 1433262,  894877,\n",
       "        562682, 2510032, 2338207, 1295802,  711597,  173212,  253397,\n",
       "       1089612, 2464212, 2750587, 2922412, 1456172, 2074742, 1158342,\n",
       "        539772,  734507,  826147, 1994557, 1055247, 2189292, 1307257,\n",
       "       1799822, 1868552, 2521487,   70117,  402312,  207577, 2051832,\n",
       "       2681857,  723052,  551227, 2601672, 2670402,  574137, 1857097,\n",
       "       2544397,  367947,  997972, 2658947,  597047, 2498577,  860512,\n",
       "       2177837,  688687, 2086197, 1066702,  115937,  219032, 1845642,\n",
       "       1937282, 2200747,  608502,  929242, 1467627,  241942, 1009427,\n",
       "       1524902, 1227072,  264852, 1673817, 1593632,  379402,  952152,\n",
       "       1146887, 2406937, 2292387,  849057, 1616542, 2853682, 2372572,\n",
       "        310672,  585592,  700142, 1754002,   93027, 2475667, 2762042,\n",
       "       1811277, 1398897, 1123977, 2613127, 1284347, 2819317, 2109107,\n",
       "       2555852,  917787])"
      ]
     },
     "execution_count": 17,
     "metadata": {},
     "output_type": "execute_result"
    }
   ],
   "source": [
    "ans"
   ]
  },
  {
   "cell_type": "code",
   "execution_count": null,
   "metadata": {},
   "outputs": [],
   "source": []
  }
 ],
 "metadata": {
  "kernelspec": {
   "display_name": "Python 3",
   "language": "python",
   "name": "python3"
  },
  "language_info": {
   "codemirror_mode": {
    "name": "ipython",
    "version": 3
   },
   "file_extension": ".py",
   "mimetype": "text/x-python",
   "name": "python",
   "nbconvert_exporter": "python",
   "pygments_lexer": "ipython3",
   "version": "3.6.4"
  }
 },
 "nbformat": 4,
 "nbformat_minor": 2
}
